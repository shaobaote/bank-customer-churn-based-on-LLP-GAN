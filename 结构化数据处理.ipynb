{
 "cells": [
  {
   "cell_type": "code",
   "execution_count": 1,
   "id": "a2cb896a",
   "metadata": {},
   "outputs": [
    {
     "name": "stdout",
     "output_type": "stream",
     "text": [
      "      RowNumber  CustomerId    Surname  CreditScore Geography  Gender  Age  \\\n",
      "0             1    15634602   Hargrave          619    France  Female   42   \n",
      "1             2    15647311       Hill          608     Spain  Female   41   \n",
      "2             3    15619304       Onio          502    France  Female   42   \n",
      "3             4    15701354       Boni          699    France  Female   39   \n",
      "4             5    15737888   Mitchell          850     Spain  Female   43   \n",
      "...         ...         ...        ...          ...       ...     ...  ...   \n",
      "9995       9996    15606229   Obijiaku          771    France    Male   39   \n",
      "9996       9997    15569892  Johnstone          516    France    Male   35   \n",
      "9997       9998    15584532        Liu          709    France  Female   36   \n",
      "9998       9999    15682355  Sabbatini          772   Germany    Male   42   \n",
      "9999      10000    15628319     Walker          792    France  Female   28   \n",
      "\n",
      "      Tenure    Balance  NumOfProducts  HasCrCard  IsActiveMember  \\\n",
      "0          2       0.00              1          1               1   \n",
      "1          1   83807.86              1          0               1   \n",
      "2          8  159660.80              3          1               0   \n",
      "3          1       0.00              2          0               0   \n",
      "4          2  125510.82              1          1               1   \n",
      "...      ...        ...            ...        ...             ...   \n",
      "9995       5       0.00              2          1               0   \n",
      "9996      10   57369.61              1          1               1   \n",
      "9997       7       0.00              1          0               1   \n",
      "9998       3   75075.31              2          1               0   \n",
      "9999       4  130142.79              1          1               0   \n",
      "\n",
      "      EstimatedSalary  Exited  \n",
      "0           101348.88       1  \n",
      "1           112542.58       0  \n",
      "2           113931.57       1  \n",
      "3            93826.63       0  \n",
      "4            79084.10       0  \n",
      "...               ...     ...  \n",
      "9995         96270.64       0  \n",
      "9996        101699.77       0  \n",
      "9997         42085.58       1  \n",
      "9998         92888.52       1  \n",
      "9999         38190.78       0  \n",
      "\n",
      "[10000 rows x 14 columns]\n",
      "      RowNumber  CustomerId       Surname  CreditScore Geography  Gender  Age  \\\n",
      "0          4866    15734438  Kanayochukwu          590    France  Female   29   \n",
      "1          7370    15757188     Chimaijem          644     Spain  Female   26   \n",
      "2          3794    15584037       Denisov          727   Germany    Male   58   \n",
      "3          9051    15760988           Liu          667   Germany    Male   33   \n",
      "4          6325    15746012       Chibugo          729     Spain  Female   28   \n",
      "...         ...         ...           ...          ...       ...     ...  ...   \n",
      "9995       6951    15667392            L?          652     Spain  Female   38   \n",
      "9996       3037    15610403      Anderson          659    France    Male   43   \n",
      "9997       6054    15677908       Gilbert          552     Spain    Male   42   \n",
      "9998        475    15603156      Elewechi          571    France  Female   33   \n",
      "9999       2033    15658716         Banks          667   Germany  Female   37   \n",
      "\n",
      "      Tenure    Balance  NumOfProducts  HasCrCard  IsActiveMember  \\\n",
      "0          4       0.00              2          1               0   \n",
      "1          4  153455.72              2          1               1   \n",
      "2          5  106913.43              1          1               0   \n",
      "3          9  124573.33              2          0               0   \n",
      "4          0       0.00              2          1               1   \n",
      "...      ...        ...            ...        ...             ...   \n",
      "9995       6  123081.84              2          1               1   \n",
      "9996       1  106086.42              2          1               0   \n",
      "9997       4       0.00              2          0               0   \n",
      "9998       1       0.00              2          1               0   \n",
      "9999       5   92171.35              3          1               0   \n",
      "\n",
      "      EstimatedSalary  Exited  \n",
      "0           121846.81       0  \n",
      "1            82696.84       0  \n",
      "2            25881.00       1  \n",
      "3              683.37       0  \n",
      "4            31165.06       1  \n",
      "...               ...     ...  \n",
      "9995        188657.97       0  \n",
      "9996         26900.63       0  \n",
      "9997        195692.30       0  \n",
      "9998        102750.70       0  \n",
      "9999        178106.34       1  \n",
      "\n",
      "[10000 rows x 14 columns]\n",
      "Geography 3 Counter({'France': 5014, 'Germany': 2509, 'Spain': 2477})\n",
      "Gender 2 Counter({'Male': 5457, 'Female': 4543})\n"
     ]
    },
    {
     "data": {
      "text/plain": [
       "1250"
      ]
     },
     "execution_count": 1,
     "metadata": {},
     "output_type": "execute_result"
    }
   ],
   "source": [
    "import os\n",
    "import numpy as np\n",
    "import argparse\n",
    "import matplotlib.pyplot as plt\n",
    "import pandas as pd\n",
    "\n",
    "from torchvision import datasets,transforms\n",
    "from torchvision.utils import save_image, make_grid\n",
    "from torch.utils.data import DataLoader,Dataset\n",
    "from torch.utils.data import Sampler, BatchSampler, RandomSampler\n",
    "from torch.autograd import Variable\n",
    "from collections import Counter\n",
    "\n",
    "import torch.nn as nn\n",
    "import torch.nn.functional as F\n",
    "import torchvision,torch\n",
    "\n",
    "class MyDataset(Dataset):\n",
    "    def __init__(self, X, Y):\n",
    "        self.x = X.values\n",
    "        self.y = Y\n",
    "        \n",
    "    def __len__(self):\n",
    "        return len(self.y)\n",
    "    \n",
    "    def __getitem__(self, idx):\n",
    "        return (self.x[idx], self.y[idx])\n",
    "\n",
    "df=pd.read_csv('D:/mac归档/研究生小论文和毕设/毕业论文/data/bank customer Churn.csv')\n",
    "print(df)\n",
    "\n",
    "df=df.sample(frac=1).reset_index(drop=True)\n",
    "print(df)\n",
    "#训练结果，是否流失\n",
    "result_var='Exited'\n",
    "#分类型数据，需要预处理\n",
    "cat_names=['Gender','Geography']\n",
    "#数值型数据，可直接输入模型\n",
    "cont_names=['CreditScore','Age','Tenure','Balance','NumOfProducts','EstimatedSalary']\n",
    "#看一下分类类型数据的数量和分布情况\n",
    "for col in df.columns:\n",
    "    if col in cat_names:\n",
    "        ccol=Counter(df[col])\n",
    "        print(col,len(ccol),ccol)\n",
    "\n",
    "#标签\n",
    "Y=df['Exited'].astype('int')\n",
    "#类别变量变为独热编码，总的有4个类别变量\n",
    "one_hot=pd.DataFrame(columns=['Female','Male','France','Germany','Spain','HasCrCard_Yes','HasCrCard_No','IsActiveMember_Yes','IsActiveMember_No'],index=[i for i in range(10000)])\n",
    "one_hot.loc[df.Gender=='Female','Female']=1\n",
    "one_hot.loc[df.Gender=='Male','Female']=0\n",
    "one_hot.loc[df.Gender=='Male','Male']=1\n",
    "one_hot.loc[df.Gender=='Female','Male']=0\n",
    "one_hot.loc[df.Geography=='France','France']=1\n",
    "one_hot.loc[df.Geography!='France','France']=0\n",
    "one_hot.loc[df.Geography=='Germany','Germany']=1\n",
    "one_hot.loc[df.Geography!='Germany','Germany']=0\n",
    "one_hot.loc[df.Geography=='Spain','Spain']=1\n",
    "one_hot.loc[df.Geography!='Spain','Spain']=0\n",
    "one_hot.loc[df.HasCrCard==1,'HasCrCard_Yes']=1\n",
    "one_hot.loc[df.HasCrCard==0,'HasCrCard_Yes']=0\n",
    "one_hot.loc[df.HasCrCard==1,'HasCrCard_No']=0\n",
    "one_hot.loc[df.HasCrCard==0,'HasCrCard_No']=1\n",
    "one_hot.loc[df.IsActiveMember==1,'IsActiveMember_Yes']=1\n",
    "one_hot.loc[df.IsActiveMember==0,'IsActiveMember_Yes']=0\n",
    "one_hot.loc[df.IsActiveMember==1,'IsActiveMember_No']=0\n",
    "one_hot.loc[df.IsActiveMember==0,'IsActiveMember_No']=1\n",
    "\n",
    "X=pd.concat([df[cont_names],one_hot],axis=1).astype('float')\n",
    "\n",
    "train_set=DataLoader(MyDataset(X,Y),batch_size=8,shuffle=False)\n",
    "len(train_set)"
   ]
  },
  {
   "cell_type": "code",
   "execution_count": 201,
   "id": "195b53bc",
   "metadata": {
    "scrolled": false
   },
   "outputs": [
    {
     "name": "stderr",
     "output_type": "stream",
     "text": [
      "c:\\users\\m1070\\appdata\\local\\programs\\python\\python38\\lib\\site-packages\\seaborn\\_decorators.py:36: FutureWarning: Pass the following variable as a keyword arg: x. From version 0.12, the only valid positional argument will be `data`, and passing other arguments without an explicit keyword will result in an error or misinterpretation.\n",
      "  warnings.warn(\n",
      "c:\\users\\m1070\\appdata\\local\\programs\\python\\python38\\lib\\site-packages\\seaborn\\_decorators.py:36: FutureWarning: Pass the following variable as a keyword arg: x. From version 0.12, the only valid positional argument will be `data`, and passing other arguments without an explicit keyword will result in an error or misinterpretation.\n",
      "  warnings.warn(\n",
      "c:\\users\\m1070\\appdata\\local\\programs\\python\\python38\\lib\\site-packages\\seaborn\\_decorators.py:36: FutureWarning: Pass the following variable as a keyword arg: x. From version 0.12, the only valid positional argument will be `data`, and passing other arguments without an explicit keyword will result in an error or misinterpretation.\n",
      "  warnings.warn(\n",
      "c:\\users\\m1070\\appdata\\local\\programs\\python\\python38\\lib\\site-packages\\seaborn\\_decorators.py:36: FutureWarning: Pass the following variable as a keyword arg: x. From version 0.12, the only valid positional argument will be `data`, and passing other arguments without an explicit keyword will result in an error or misinterpretation.\n",
      "  warnings.warn(\n",
      "c:\\users\\m1070\\appdata\\local\\programs\\python\\python38\\lib\\site-packages\\seaborn\\_decorators.py:36: FutureWarning: Pass the following variable as a keyword arg: x. From version 0.12, the only valid positional argument will be `data`, and passing other arguments without an explicit keyword will result in an error or misinterpretation.\n",
      "  warnings.warn(\n",
      "c:\\users\\m1070\\appdata\\local\\programs\\python\\python38\\lib\\site-packages\\seaborn\\_decorators.py:36: FutureWarning: Pass the following variable as a keyword arg: x. From version 0.12, the only valid positional argument will be `data`, and passing other arguments without an explicit keyword will result in an error or misinterpretation.\n",
      "  warnings.warn(\n"
     ]
    },
    {
     "data": {
      "image/png": "[encoded data removed]",
      "text/plain": [
       "<Figure size 1440x576 with 6 Axes>"
      ]
     },
     "metadata": {
      "needs_background": "light"
     },
     "output_type": "display_data"
    }
   ],
   "source": [
    "import os\n",
    "import numpy as np\n",
    "import argparse\n",
    "import matplotlib.pyplot as plt\n",
    "import pandas as pd\n",
    "\n",
    "from torchvision import datasets,transforms\n",
    "from torchvision.utils import save_image, make_grid\n",
    "from torch.utils.data import DataLoader,Dataset\n",
    "from torch.utils.data import Sampler, BatchSampler, RandomSampler\n",
    "from torch.autograd import Variable\n",
    "from collections import Counter\n",
    "\n",
    "import torch.nn as nn\n",
    "import torch.nn.functional as F\n",
    "import torchvision,torch\n",
    "\n",
    "import seaborn as sns\n",
    "\n",
    "df=pd.read_csv('D:/mac归档/研究生小论文和毕设/毕业论文/data/bank customer Churn.csv')\n",
    "\n",
    "#训练结果，是否流失\n",
    "result_var='Exited'\n",
    "#分类型数据，需要预处理\n",
    "cat_names=['Gender','Geography']\n",
    "#数值型数据，可直接输入模型\n",
    "cont_names=['CreditScore','Age','Tenure','Balance','NumOfProducts','EstimatedSalary']\n",
    "\n",
    "'''plt.figure(figsize=(6,6))\n",
    "df.Exited.value_counts().plot(ylabel='',title='',kind='pie', autopct='%1.2f%%', colors=['skyblue', 'orange'], explode=(0.0, 0.05),labels=['No',' Yes'],fontsize=15)\n",
    "plt.savefig('客户流失比例.png')\n",
    "plt.close()'''\n",
    "\n",
    "data=df\n",
    "#preparing the figure size \n",
    "fig, axarr = plt.subplots(2, 3, figsize=(20, 8))\n",
    "\n",
    "#visulazie the count of Exited and NotExited for each feature\n",
    "\n",
    "sns.countplot('Geography', hue = 'Exited',data = data, ax = axarr[0][0],palette=['skyblue', 'orange'])\n",
    "sns.countplot('Gender', hue = 'Exited',data = data, ax = axarr[0][1],palette=['skyblue', 'orange'])\n",
    "sns.countplot('Tenure', hue = 'Exited',data = data, ax = axarr[0][2],palette=['skyblue', 'orange'])\n",
    "sns.countplot('NumOfProducts', hue = 'Exited',data = data, ax = axarr[1][0],palette=['skyblue', 'orange'])\n",
    "sns.countplot('HasCrCard', hue = 'Exited',data = data, ax = axarr[1][1],palette=['skyblue', 'orange'])\n",
    "sns.countplot('IsActiveMember', hue = 'Exited',data = data, ax = axarr[1][2],palette=['skyblue', 'orange'])\n",
    "plt.savefig('各特征和是否流失关系图.png',dpi=300)"
   ]
  },
  {
   "cell_type": "code",
   "execution_count": 176,
   "id": "4b12311c",
   "metadata": {},
   "outputs": [
    {
     "name": "stderr",
     "output_type": "stream",
     "text": [
      "c:\\users\\m1070\\appdata\\local\\programs\\python\\python38\\lib\\site-packages\\seaborn\\axisgrid.py:156: UserWarning: You have mixed positional and keyword arguments, some input may be discarded.\n",
      "  figlegend = self._figure.legend(handles, labels, **kwargs)\n"
     ]
    },
    {
     "data": {
      "image/png": "[encoded data removed]",
      "text/plain": [
       "<Figure size 487.125x216 with 1 Axes>"
      ]
     },
     "metadata": {
      "needs_background": "light"
     },
     "output_type": "display_data"
    }
   ],
   "source": [
    "FacetGrid = sns.FacetGrid(data, hue='Exited', aspect=2,)\n",
    "FacetGrid.map(sns.kdeplot, 'Age', shade=True )\n",
    "FacetGrid.set(xlim=(10, data['Age'].max()))\n",
    "FacetGrid.add_legend(labels = ['No', \" Yes\"])\n",
    "plt.savefig('客户年龄分布_1.png',dpi=300)"
   ]
  },
  {
   "cell_type": "code",
   "execution_count": 175,
   "id": "2e787663",
   "metadata": {
    "scrolled": true
   },
   "outputs": [
    {
     "name": "stderr",
     "output_type": "stream",
     "text": [
      "c:\\users\\m1070\\appdata\\local\\programs\\python\\python38\\lib\\site-packages\\seaborn\\axisgrid.py:156: UserWarning: You have mixed positional and keyword arguments, some input may be discarded.\n",
      "  figlegend = self._figure.legend(handles, labels, **kwargs)\n"
     ]
    },
    {
     "data": {
      "image/png": "[encoded data removed]",
      "text/plain": [
       "<Figure size 487.125x216 with 1 Axes>"
      ]
     },
     "metadata": {
      "needs_background": "light"
     },
     "output_type": "display_data"
    }
   ],
   "source": [
    "FacetGrid = sns.FacetGrid(data, hue='Exited', aspect=2)\n",
    "FacetGrid.map(sns.histplot, 'Age')\n",
    "FacetGrid.set(xlim=(0, data['Age'].max()))\n",
    "FacetGrid.add_legend(labels = ['No', \" Yes\"])\n",
    "plt.savefig('客户年龄分布_2.png',dpi=300)"
   ]
  },
  {
   "cell_type": "code",
   "execution_count": 191,
   "id": "d87e3c60",
   "metadata": {
    "scrolled": false
   },
   "outputs": [
    {
     "name": "stderr",
     "output_type": "stream",
     "text": [
      "c:\\users\\m1070\\appdata\\local\\programs\\python\\python38\\lib\\site-packages\\seaborn\\axisgrid.py:156: UserWarning: You have mixed positional and keyword arguments, some input may be discarded.\n",
      "  figlegend = self._figure.legend(handles, labels, **kwargs)\n"
     ]
    },
    {
     "data": {
      "image/png": "[encoded data removed]",
      "text/plain": [
       "<Figure size 487.125x216 with 1 Axes>"
      ]
     },
     "metadata": {
      "needs_background": "light"
     },
     "output_type": "display_data"
    }
   ],
   "source": [
    "FacetGrid = sns.FacetGrid(data, hue='Exited', aspect=2,)\n",
    "FacetGrid.map(sns.kdeplot, 'EstimatedSalary', shade=True )\n",
    "FacetGrid.set(xlim=(0, 200000))\n",
    "FacetGrid.add_legend(labels = ['No', \" Yes\"])\n",
    "plt.savefig('客户收入分布_1.png',dpi=300)"
   ]
  },
  {
   "cell_type": "code",
   "execution_count": 185,
   "id": "34f96184",
   "metadata": {},
   "outputs": [
    {
     "name": "stderr",
     "output_type": "stream",
     "text": [
      "c:\\users\\m1070\\appdata\\local\\programs\\python\\python38\\lib\\site-packages\\seaborn\\axisgrid.py:156: UserWarning: You have mixed positional and keyword arguments, some input may be discarded.\n",
      "  figlegend = self._figure.legend(handles, labels, **kwargs)\n"
     ]
    },
    {
     "data": {
      "image/png": "[encoded data removed]",
      "text/plain": [
       "<Figure size 487.125x216 with 1 Axes>"
      ]
     },
     "metadata": {
      "needs_background": "light"
     },
     "output_type": "display_data"
    }
   ],
   "source": [
    "FacetGrid = sns.FacetGrid(data, hue='Exited', aspect=2,)\n",
    "FacetGrid.map(sns.histplot, 'EstimatedSalary')\n",
    "FacetGrid.set(xlim=(-40000, 250000))\n",
    "FacetGrid.add_legend(labels = ['No', \" Yes\"])\n",
    "plt.savefig('客户收入分布_2.png',dpi=300)"
   ]
  },
  {
   "cell_type": "code",
   "execution_count": 172,
   "id": "5af44b58",
   "metadata": {},
   "outputs": [
    {
     "name": "stderr",
     "output_type": "stream",
     "text": [
      "c:\\users\\m1070\\appdata\\local\\programs\\python\\python38\\lib\\site-packages\\seaborn\\axisgrid.py:156: UserWarning: You have mixed positional and keyword arguments, some input may be discarded.\n",
      "  figlegend = self._figure.legend(handles, labels, **kwargs)\n"
     ]
    },
    {
     "data": {
      "image/png": "[encoded data removed]",
      "text/plain": [
       "<Figure size 487.125x216 with 1 Axes>"
      ]
     },
     "metadata": {
      "needs_background": "light"
     },
     "output_type": "display_data"
    }
   ],
   "source": [
    "FacetGrid = sns.FacetGrid(data, hue='Exited', aspect=2,)\n",
    "FacetGrid.map(sns.kdeplot, 'CreditScore', shade=True )\n",
    "FacetGrid.set(xlim=(250, 950))\n",
    "FacetGrid.add_legend(labels = ['No', \" Yes\"])\n",
    "plt.savefig('客户信用评分分布_1.png',dpi=300)"
   ]
  },
  {
   "cell_type": "code",
   "execution_count": 171,
   "id": "0054c688",
   "metadata": {},
   "outputs": [
    {
     "name": "stderr",
     "output_type": "stream",
     "text": [
      "c:\\users\\m1070\\appdata\\local\\programs\\python\\python38\\lib\\site-packages\\seaborn\\axisgrid.py:156: UserWarning: You have mixed positional and keyword arguments, some input may be discarded.\n",
      "  figlegend = self._figure.legend(handles, labels, **kwargs)\n"
     ]
    },
    {
     "data": {
      "image/png": "[encoded data removed]",
      "text/plain": [
       "<Figure size 487.125x216 with 1 Axes>"
      ]
     },
     "metadata": {
      "needs_background": "light"
     },
     "output_type": "display_data"
    }
   ],
   "source": [
    "FacetGrid = sns.FacetGrid(data, hue='Exited', aspect=2,)\n",
    "FacetGrid.map(sns.histplot, 'CreditScore')\n",
    "FacetGrid.set(xlim=(250, 950))\n",
    "FacetGrid.add_legend(labels = ['No', \" Yes\"])\n",
    "plt.savefig('客户信用评分分布_2.png',dpi=300)"
   ]
  },
  {
   "cell_type": "code",
   "execution_count": 187,
   "id": "83dcade1",
   "metadata": {},
   "outputs": [
    {
     "name": "stderr",
     "output_type": "stream",
     "text": [
      "c:\\users\\m1070\\appdata\\local\\programs\\python\\python38\\lib\\site-packages\\seaborn\\axisgrid.py:156: UserWarning: You have mixed positional and keyword arguments, some input may be discarded.\n",
      "  figlegend = self._figure.legend(handles, labels, **kwargs)\n"
     ]
    },
    {
     "data": {
      "image/png": "[encoded data removed]",
      "text/plain": [
       "<Figure size 487.125x216 with 1 Axes>"
      ]
     },
     "metadata": {
      "needs_background": "light"
     },
     "output_type": "display_data"
    }
   ],
   "source": [
    "FacetGrid = sns.FacetGrid(data, hue='Exited', aspect=2,)\n",
    "FacetGrid.map(sns.kdeplot, 'Balance', shade=True )\n",
    "FacetGrid.set(xlim=(0, 250000))\n",
    "FacetGrid.add_legend(labels = ['No', \" Yes\"])\n",
    "plt.savefig('银行余额分布_1.png',dpi=300)"
   ]
  },
  {
   "cell_type": "code",
   "execution_count": 188,
   "id": "a89b27f2",
   "metadata": {},
   "outputs": [
    {
     "name": "stderr",
     "output_type": "stream",
     "text": [
      "c:\\users\\m1070\\appdata\\local\\programs\\python\\python38\\lib\\site-packages\\seaborn\\axisgrid.py:156: UserWarning: You have mixed positional and keyword arguments, some input may be discarded.\n",
      "  figlegend = self._figure.legend(handles, labels, **kwargs)\n"
     ]
    },
    {
     "data": {
      "image/png": "[encoded data removed]",
      "text/plain": [
       "<Figure size 487.125x216 with 1 Axes>"
      ]
     },
     "metadata": {
      "needs_background": "light"
     },
     "output_type": "display_data"
    }
   ],
   "source": [
    "FacetGrid = sns.FacetGrid(data, hue='Exited', aspect=2,)\n",
    "FacetGrid.map(sns.histplot, 'Balance')\n",
    "FacetGrid.set(xlim=(0, 250000))\n",
    "FacetGrid.add_legend(labels = ['No', \" Yes\"])\n",
    "plt.savefig('银行余额分布_2.png',dpi=300)"
   ]
  },
  {
   "cell_type": "code",
   "execution_count": 183,
   "id": "a41df18a",
   "metadata": {},
   "outputs": [
    {
     "name": "stderr",
     "output_type": "stream",
     "text": [
      "c:\\users\\m1070\\appdata\\local\\programs\\python\\python38\\lib\\site-packages\\seaborn\\axisgrid.py:156: UserWarning: You have mixed positional and keyword arguments, some input may be discarded.\n",
      "  figlegend = self._figure.legend(handles, labels, **kwargs)\n"
     ]
    },
    {
     "data": {
      "image/png": "[encoded data removed]",
      "text/plain": [
       "<Figure size 487.125x216 with 1 Axes>"
      ]
     },
     "metadata": {
      "needs_background": "light"
     },
     "output_type": "display_data"
    }
   ],
   "source": [
    "FacetGrid = sns.FacetGrid(data, hue='Exited', aspect=2,)\n",
    "FacetGrid.map(sns.histplot, 'Tenure')\n",
    "FacetGrid.set(xlim=(0, 10))\n",
    "FacetGrid.add_legend(labels = ['No', \" Yes\"])\n",
    "plt.savefig('注册年限_1.png',dpi=300)"
   ]
  },
  {
   "cell_type": "code",
   "execution_count": 3,
   "id": "9004ad27",
   "metadata": {},
   "outputs": [],
   "source": [
    "X=X.apply(lambda x: (x - np.min(x)) / (np.max(x) - np.min(x)))"
   ]
  },
  {
   "cell_type": "code",
   "execution_count": 2,
   "id": "ef2d19ad",
   "metadata": {},
   "outputs": [
    {
     "data": {
      "text/html": [
       "<div>\n",
       "<style scoped>\n",
       "    .dataframe tbody tr th:only-of-type {\n",
       "        vertical-align: middle;\n",
       "    }\n",
       "\n",
       "    .dataframe tbody tr th {\n",
       "        vertical-align: top;\n",
       "    }\n",
       "\n",
       "    .dataframe thead th {\n",
       "        text-align: right;\n",
       "    }\n",
       "</style>\n",
       "<table border=\"1\" class=\"dataframe\">\n",
       "  <thead>\n",
       "    <tr style=\"text-align: right;\">\n",
       "      <th></th>\n",
       "      <th>CreditScore</th>\n",
       "      <th>Age</th>\n",
       "      <th>Tenure</th>\n",
       "      <th>Balance</th>\n",
       "      <th>NumOfProducts</th>\n",
       "      <th>EstimatedSalary</th>\n",
       "      <th>Female</th>\n",
       "      <th>Male</th>\n",
       "      <th>France</th>\n",
       "      <th>Germany</th>\n",
       "      <th>Spain</th>\n",
       "      <th>HasCrCard_Yes</th>\n",
       "      <th>HasCrCard_No</th>\n",
       "      <th>IsActiveMember_Yes</th>\n",
       "      <th>IsActiveMember_No</th>\n",
       "    </tr>\n",
       "  </thead>\n",
       "  <tbody>\n",
       "    <tr>\n",
       "      <th>count</th>\n",
       "      <td>10000.000000</td>\n",
       "      <td>10000.000000</td>\n",
       "      <td>10000.000000</td>\n",
       "      <td>10000.000000</td>\n",
       "      <td>10000.000000</td>\n",
       "      <td>10000.000000</td>\n",
       "      <td>10000.000000</td>\n",
       "      <td>10000.000000</td>\n",
       "      <td>10000.000000</td>\n",
       "      <td>10000.000000</td>\n",
       "      <td>10000.000000</td>\n",
       "      <td>10000.00000</td>\n",
       "      <td>10000.00000</td>\n",
       "      <td>10000.000000</td>\n",
       "      <td>10000.000000</td>\n",
       "    </tr>\n",
       "    <tr>\n",
       "      <th>mean</th>\n",
       "      <td>650.528800</td>\n",
       "      <td>38.921800</td>\n",
       "      <td>5.012800</td>\n",
       "      <td>76485.889288</td>\n",
       "      <td>1.530200</td>\n",
       "      <td>100090.239881</td>\n",
       "      <td>0.454300</td>\n",
       "      <td>0.545700</td>\n",
       "      <td>0.501400</td>\n",
       "      <td>0.250900</td>\n",
       "      <td>0.247700</td>\n",
       "      <td>0.70550</td>\n",
       "      <td>0.29450</td>\n",
       "      <td>0.515100</td>\n",
       "      <td>0.484900</td>\n",
       "    </tr>\n",
       "    <tr>\n",
       "      <th>std</th>\n",
       "      <td>96.653299</td>\n",
       "      <td>10.487806</td>\n",
       "      <td>2.892174</td>\n",
       "      <td>62397.405202</td>\n",
       "      <td>0.581654</td>\n",
       "      <td>57510.492818</td>\n",
       "      <td>0.497932</td>\n",
       "      <td>0.497932</td>\n",
       "      <td>0.500023</td>\n",
       "      <td>0.433553</td>\n",
       "      <td>0.431698</td>\n",
       "      <td>0.45584</td>\n",
       "      <td>0.45584</td>\n",
       "      <td>0.499797</td>\n",
       "      <td>0.499797</td>\n",
       "    </tr>\n",
       "    <tr>\n",
       "      <th>min</th>\n",
       "      <td>350.000000</td>\n",
       "      <td>18.000000</td>\n",
       "      <td>0.000000</td>\n",
       "      <td>0.000000</td>\n",
       "      <td>1.000000</td>\n",
       "      <td>11.580000</td>\n",
       "      <td>0.000000</td>\n",
       "      <td>0.000000</td>\n",
       "      <td>0.000000</td>\n",
       "      <td>0.000000</td>\n",
       "      <td>0.000000</td>\n",
       "      <td>0.00000</td>\n",
       "      <td>0.00000</td>\n",
       "      <td>0.000000</td>\n",
       "      <td>0.000000</td>\n",
       "    </tr>\n",
       "    <tr>\n",
       "      <th>25%</th>\n",
       "      <td>584.000000</td>\n",
       "      <td>32.000000</td>\n",
       "      <td>3.000000</td>\n",
       "      <td>0.000000</td>\n",
       "      <td>1.000000</td>\n",
       "      <td>51002.110000</td>\n",
       "      <td>0.000000</td>\n",
       "      <td>0.000000</td>\n",
       "      <td>0.000000</td>\n",
       "      <td>0.000000</td>\n",
       "      <td>0.000000</td>\n",
       "      <td>0.00000</td>\n",
       "      <td>0.00000</td>\n",
       "      <td>0.000000</td>\n",
       "      <td>0.000000</td>\n",
       "    </tr>\n",
       "    <tr>\n",
       "      <th>50%</th>\n",
       "      <td>652.000000</td>\n",
       "      <td>37.000000</td>\n",
       "      <td>5.000000</td>\n",
       "      <td>97198.540000</td>\n",
       "      <td>1.000000</td>\n",
       "      <td>100193.915000</td>\n",
       "      <td>0.000000</td>\n",
       "      <td>1.000000</td>\n",
       "      <td>1.000000</td>\n",
       "      <td>0.000000</td>\n",
       "      <td>0.000000</td>\n",
       "      <td>1.00000</td>\n",
       "      <td>0.00000</td>\n",
       "      <td>1.000000</td>\n",
       "      <td>0.000000</td>\n",
       "    </tr>\n",
       "    <tr>\n",
       "      <th>75%</th>\n",
       "      <td>718.000000</td>\n",
       "      <td>44.000000</td>\n",
       "      <td>7.000000</td>\n",
       "      <td>127644.240000</td>\n",
       "      <td>2.000000</td>\n",
       "      <td>149388.247500</td>\n",
       "      <td>1.000000</td>\n",
       "      <td>1.000000</td>\n",
       "      <td>1.000000</td>\n",
       "      <td>1.000000</td>\n",
       "      <td>0.000000</td>\n",
       "      <td>1.00000</td>\n",
       "      <td>1.00000</td>\n",
       "      <td>1.000000</td>\n",
       "      <td>1.000000</td>\n",
       "    </tr>\n",
       "    <tr>\n",
       "      <th>max</th>\n",
       "      <td>850.000000</td>\n",
       "      <td>92.000000</td>\n",
       "      <td>10.000000</td>\n",
       "      <td>250898.090000</td>\n",
       "      <td>4.000000</td>\n",
       "      <td>199992.480000</td>\n",
       "      <td>1.000000</td>\n",
       "      <td>1.000000</td>\n",
       "      <td>1.000000</td>\n",
       "      <td>1.000000</td>\n",
       "      <td>1.000000</td>\n",
       "      <td>1.00000</td>\n",
       "      <td>1.00000</td>\n",
       "      <td>1.000000</td>\n",
       "      <td>1.000000</td>\n",
       "    </tr>\n",
       "  </tbody>\n",
       "</table>\n",
       "</div>"
      ],
      "text/plain": [
       "        CreditScore           Age        Tenure        Balance  NumOfProducts  \\\n",
       "count  10000.000000  10000.000000  10000.000000   10000.000000   10000.000000   \n",
       "mean     650.528800     38.921800      5.012800   76485.889288       1.530200   \n",
       "std       96.653299     10.487806      2.892174   62397.405202       0.581654   \n",
       "min      350.000000     18.000000      0.000000       0.000000       1.000000   \n",
       "25%      584.000000     32.000000      3.000000       0.000000       1.000000   \n",
       "50%      652.000000     37.000000      5.000000   97198.540000       1.000000   \n",
       "75%      718.000000     44.000000      7.000000  127644.240000       2.000000   \n",
       "max      850.000000     92.000000     10.000000  250898.090000       4.000000   \n",
       "\n",
       "       EstimatedSalary        Female          Male        France  \\\n",
       "count     10000.000000  10000.000000  10000.000000  10000.000000   \n",
       "mean     100090.239881      0.454300      0.545700      0.501400   \n",
       "std       57510.492818      0.497932      0.497932      0.500023   \n",
       "min          11.580000      0.000000      0.000000      0.000000   \n",
       "25%       51002.110000      0.000000      0.000000      0.000000   \n",
       "50%      100193.915000      0.000000      1.000000      1.000000   \n",
       "75%      149388.247500      1.000000      1.000000      1.000000   \n",
       "max      199992.480000      1.000000      1.000000      1.000000   \n",
       "\n",
       "            Germany         Spain  HasCrCard_Yes  HasCrCard_No  \\\n",
       "count  10000.000000  10000.000000    10000.00000   10000.00000   \n",
       "mean       0.250900      0.247700        0.70550       0.29450   \n",
       "std        0.433553      0.431698        0.45584       0.45584   \n",
       "min        0.000000      0.000000        0.00000       0.00000   \n",
       "25%        0.000000      0.000000        0.00000       0.00000   \n",
       "50%        0.000000      0.000000        1.00000       0.00000   \n",
       "75%        1.000000      0.000000        1.00000       1.00000   \n",
       "max        1.000000      1.000000        1.00000       1.00000   \n",
       "\n",
       "       IsActiveMember_Yes  IsActiveMember_No  \n",
       "count        10000.000000       10000.000000  \n",
       "mean             0.515100           0.484900  \n",
       "std              0.499797           0.499797  \n",
       "min              0.000000           0.000000  \n",
       "25%              0.000000           0.000000  \n",
       "50%              1.000000           0.000000  \n",
       "75%              1.000000           1.000000  \n",
       "max              1.000000           1.000000  "
      ]
     },
     "execution_count": 2,
     "metadata": {},
     "output_type": "execute_result"
    }
   ],
   "source": [
    "X.describe()"
   ]
  },
  {
   "cell_type": "code",
   "execution_count": 8,
   "id": "41346b60",
   "metadata": {},
   "outputs": [
    {
     "data": {
      "text/plain": [
       "0    7963\n",
       "1    2037\n",
       "Name: Exited, dtype: int64"
      ]
     },
     "execution_count": 8,
     "metadata": {},
     "output_type": "execute_result"
    }
   ],
   "source": [
    "df['Exited'].value_counts()"
   ]
  },
  {
   "cell_type": "code",
   "execution_count": 3,
   "id": "fd9d748a",
   "metadata": {},
   "outputs": [
    {
     "data": {
      "text/html": [
       "<div>\n",
       "<style scoped>\n",
       "    .dataframe tbody tr th:only-of-type {\n",
       "        vertical-align: middle;\n",
       "    }\n",
       "\n",
       "    .dataframe tbody tr th {\n",
       "        vertical-align: top;\n",
       "    }\n",
       "\n",
       "    .dataframe thead th {\n",
       "        text-align: right;\n",
       "    }\n",
       "</style>\n",
       "<table border=\"1\" class=\"dataframe\">\n",
       "  <thead>\n",
       "    <tr style=\"text-align: right;\">\n",
       "      <th></th>\n",
       "      <th>CreditScore</th>\n",
       "      <th>Age</th>\n",
       "      <th>Tenure</th>\n",
       "      <th>Balance</th>\n",
       "      <th>NumOfProducts</th>\n",
       "      <th>EstimatedSalary</th>\n",
       "      <th>Female</th>\n",
       "      <th>Male</th>\n",
       "      <th>France</th>\n",
       "      <th>Germany</th>\n",
       "      <th>Spain</th>\n",
       "      <th>HasCrCard_Yes</th>\n",
       "      <th>HasCrCard_No</th>\n",
       "      <th>IsActiveMember_Yes</th>\n",
       "      <th>IsActiveMember_No</th>\n",
       "    </tr>\n",
       "  </thead>\n",
       "  <tbody>\n",
       "    <tr>\n",
       "      <th>0</th>\n",
       "      <td>596.0</td>\n",
       "      <td>47.0</td>\n",
       "      <td>6.0</td>\n",
       "      <td>0.00</td>\n",
       "      <td>1.0</td>\n",
       "      <td>74835.65</td>\n",
       "      <td>0.0</td>\n",
       "      <td>1.0</td>\n",
       "      <td>1.0</td>\n",
       "      <td>0.0</td>\n",
       "      <td>0.0</td>\n",
       "      <td>1.0</td>\n",
       "      <td>0.0</td>\n",
       "      <td>0.0</td>\n",
       "      <td>1.0</td>\n",
       "    </tr>\n",
       "    <tr>\n",
       "      <th>1</th>\n",
       "      <td>614.0</td>\n",
       "      <td>50.0</td>\n",
       "      <td>4.0</td>\n",
       "      <td>137104.47</td>\n",
       "      <td>1.0</td>\n",
       "      <td>127166.49</td>\n",
       "      <td>0.0</td>\n",
       "      <td>1.0</td>\n",
       "      <td>1.0</td>\n",
       "      <td>0.0</td>\n",
       "      <td>0.0</td>\n",
       "      <td>1.0</td>\n",
       "      <td>0.0</td>\n",
       "      <td>0.0</td>\n",
       "      <td>1.0</td>\n",
       "    </tr>\n",
       "    <tr>\n",
       "      <th>2</th>\n",
       "      <td>587.0</td>\n",
       "      <td>49.0</td>\n",
       "      <td>7.0</td>\n",
       "      <td>155393.98</td>\n",
       "      <td>2.0</td>\n",
       "      <td>13308.20</td>\n",
       "      <td>1.0</td>\n",
       "      <td>0.0</td>\n",
       "      <td>0.0</td>\n",
       "      <td>1.0</td>\n",
       "      <td>0.0</td>\n",
       "      <td>1.0</td>\n",
       "      <td>0.0</td>\n",
       "      <td>0.0</td>\n",
       "      <td>1.0</td>\n",
       "    </tr>\n",
       "    <tr>\n",
       "      <th>3</th>\n",
       "      <td>616.0</td>\n",
       "      <td>45.0</td>\n",
       "      <td>3.0</td>\n",
       "      <td>143129.41</td>\n",
       "      <td>2.0</td>\n",
       "      <td>64327.26</td>\n",
       "      <td>0.0</td>\n",
       "      <td>1.0</td>\n",
       "      <td>0.0</td>\n",
       "      <td>1.0</td>\n",
       "      <td>0.0</td>\n",
       "      <td>0.0</td>\n",
       "      <td>1.0</td>\n",
       "      <td>1.0</td>\n",
       "      <td>0.0</td>\n",
       "    </tr>\n",
       "    <tr>\n",
       "      <th>4</th>\n",
       "      <td>850.0</td>\n",
       "      <td>40.0</td>\n",
       "      <td>6.0</td>\n",
       "      <td>97339.99</td>\n",
       "      <td>1.0</td>\n",
       "      <td>88815.25</td>\n",
       "      <td>0.0</td>\n",
       "      <td>1.0</td>\n",
       "      <td>1.0</td>\n",
       "      <td>0.0</td>\n",
       "      <td>0.0</td>\n",
       "      <td>0.0</td>\n",
       "      <td>1.0</td>\n",
       "      <td>1.0</td>\n",
       "      <td>0.0</td>\n",
       "    </tr>\n",
       "    <tr>\n",
       "      <th>...</th>\n",
       "      <td>...</td>\n",
       "      <td>...</td>\n",
       "      <td>...</td>\n",
       "      <td>...</td>\n",
       "      <td>...</td>\n",
       "      <td>...</td>\n",
       "      <td>...</td>\n",
       "      <td>...</td>\n",
       "      <td>...</td>\n",
       "      <td>...</td>\n",
       "      <td>...</td>\n",
       "      <td>...</td>\n",
       "      <td>...</td>\n",
       "      <td>...</td>\n",
       "      <td>...</td>\n",
       "    </tr>\n",
       "    <tr>\n",
       "      <th>9995</th>\n",
       "      <td>580.0</td>\n",
       "      <td>67.0</td>\n",
       "      <td>3.0</td>\n",
       "      <td>153946.14</td>\n",
       "      <td>1.0</td>\n",
       "      <td>7418.92</td>\n",
       "      <td>0.0</td>\n",
       "      <td>1.0</td>\n",
       "      <td>0.0</td>\n",
       "      <td>0.0</td>\n",
       "      <td>1.0</td>\n",
       "      <td>1.0</td>\n",
       "      <td>0.0</td>\n",
       "      <td>1.0</td>\n",
       "      <td>0.0</td>\n",
       "    </tr>\n",
       "    <tr>\n",
       "      <th>9996</th>\n",
       "      <td>615.0</td>\n",
       "      <td>35.0</td>\n",
       "      <td>2.0</td>\n",
       "      <td>97440.02</td>\n",
       "      <td>2.0</td>\n",
       "      <td>139816.10</td>\n",
       "      <td>1.0</td>\n",
       "      <td>0.0</td>\n",
       "      <td>1.0</td>\n",
       "      <td>0.0</td>\n",
       "      <td>0.0</td>\n",
       "      <td>1.0</td>\n",
       "      <td>0.0</td>\n",
       "      <td>1.0</td>\n",
       "      <td>0.0</td>\n",
       "    </tr>\n",
       "    <tr>\n",
       "      <th>9997</th>\n",
       "      <td>549.0</td>\n",
       "      <td>29.0</td>\n",
       "      <td>3.0</td>\n",
       "      <td>0.00</td>\n",
       "      <td>2.0</td>\n",
       "      <td>146090.38</td>\n",
       "      <td>0.0</td>\n",
       "      <td>1.0</td>\n",
       "      <td>1.0</td>\n",
       "      <td>0.0</td>\n",
       "      <td>0.0</td>\n",
       "      <td>1.0</td>\n",
       "      <td>0.0</td>\n",
       "      <td>0.0</td>\n",
       "      <td>1.0</td>\n",
       "    </tr>\n",
       "    <tr>\n",
       "      <th>9998</th>\n",
       "      <td>724.0</td>\n",
       "      <td>34.0</td>\n",
       "      <td>6.0</td>\n",
       "      <td>118235.70</td>\n",
       "      <td>2.0</td>\n",
       "      <td>157137.23</td>\n",
       "      <td>0.0</td>\n",
       "      <td>1.0</td>\n",
       "      <td>0.0</td>\n",
       "      <td>1.0</td>\n",
       "      <td>0.0</td>\n",
       "      <td>0.0</td>\n",
       "      <td>1.0</td>\n",
       "      <td>0.0</td>\n",
       "      <td>1.0</td>\n",
       "    </tr>\n",
       "    <tr>\n",
       "      <th>9999</th>\n",
       "      <td>721.0</td>\n",
       "      <td>57.0</td>\n",
       "      <td>1.0</td>\n",
       "      <td>0.00</td>\n",
       "      <td>1.0</td>\n",
       "      <td>195940.96</td>\n",
       "      <td>0.0</td>\n",
       "      <td>1.0</td>\n",
       "      <td>0.0</td>\n",
       "      <td>0.0</td>\n",
       "      <td>1.0</td>\n",
       "      <td>1.0</td>\n",
       "      <td>0.0</td>\n",
       "      <td>1.0</td>\n",
       "      <td>0.0</td>\n",
       "    </tr>\n",
       "  </tbody>\n",
       "</table>\n",
       "<p>10000 rows × 15 columns</p>\n",
       "</div>"
      ],
      "text/plain": [
       "      CreditScore   Age  Tenure    Balance  NumOfProducts  EstimatedSalary  \\\n",
       "0           596.0  47.0     6.0       0.00            1.0         74835.65   \n",
       "1           614.0  50.0     4.0  137104.47            1.0        127166.49   \n",
       "2           587.0  49.0     7.0  155393.98            2.0         13308.20   \n",
       "3           616.0  45.0     3.0  143129.41            2.0         64327.26   \n",
       "4           850.0  40.0     6.0   97339.99            1.0         88815.25   \n",
       "...           ...   ...     ...        ...            ...              ...   \n",
       "9995        580.0  67.0     3.0  153946.14            1.0          7418.92   \n",
       "9996        615.0  35.0     2.0   97440.02            2.0        139816.10   \n",
       "9997        549.0  29.0     3.0       0.00            2.0        146090.38   \n",
       "9998        724.0  34.0     6.0  118235.70            2.0        157137.23   \n",
       "9999        721.0  57.0     1.0       0.00            1.0        195940.96   \n",
       "\n",
       "      Female  Male  France  Germany  Spain  HasCrCard_Yes  HasCrCard_No  \\\n",
       "0        0.0   1.0     1.0      0.0    0.0            1.0           0.0   \n",
       "1        0.0   1.0     1.0      0.0    0.0            1.0           0.0   \n",
       "2        1.0   0.0     0.0      1.0    0.0            1.0           0.0   \n",
       "3        0.0   1.0     0.0      1.0    0.0            0.0           1.0   \n",
       "4        0.0   1.0     1.0      0.0    0.0            0.0           1.0   \n",
       "...      ...   ...     ...      ...    ...            ...           ...   \n",
       "9995     0.0   1.0     0.0      0.0    1.0            1.0           0.0   \n",
       "9996     1.0   0.0     1.0      0.0    0.0            1.0           0.0   \n",
       "9997     0.0   1.0     1.0      0.0    0.0            1.0           0.0   \n",
       "9998     0.0   1.0     0.0      1.0    0.0            0.0           1.0   \n",
       "9999     0.0   1.0     0.0      0.0    1.0            1.0           0.0   \n",
       "\n",
       "      IsActiveMember_Yes  IsActiveMember_No  \n",
       "0                    0.0                1.0  \n",
       "1                    0.0                1.0  \n",
       "2                    0.0                1.0  \n",
       "3                    1.0                0.0  \n",
       "4                    1.0                0.0  \n",
       "...                  ...                ...  \n",
       "9995                 1.0                0.0  \n",
       "9996                 1.0                0.0  \n",
       "9997                 0.0                1.0  \n",
       "9998                 0.0                1.0  \n",
       "9999                 1.0                0.0  \n",
       "\n",
       "[10000 rows x 15 columns]"
      ]
     },
     "execution_count": 3,
     "metadata": {},
     "output_type": "execute_result"
    }
   ],
   "source": [
    "X"
   ]
  },
  {
   "cell_type": "code",
   "execution_count": 32,
   "id": "c5ade766",
   "metadata": {},
   "outputs": [
    {
     "name": "stdout",
     "output_type": "stream",
     "text": [
      "(8000, 60) (2000, 15)\n"
     ]
    },
    {
     "data": {
      "text/plain": [
       "(      CreditScore   Age  Tenure    Balance  NumOfProducts  EstimatedSalary  \\\n",
       " 0           583.0  40.0     3.0       0.00            2.0         47728.00   \n",
       " 1           527.0  37.0     5.0   93722.73            2.0        139093.73   \n",
       " 2           621.0  36.0     7.0  116338.68            1.0        155743.48   \n",
       " 3           682.0  43.0     7.0  111094.05            2.0         64679.30   \n",
       " 4           576.0  28.0     1.0  119336.29            2.0         58976.85   \n",
       " ...           ...   ...     ...        ...            ...              ...   \n",
       " 9995          NaN   NaN     NaN        NaN            NaN              NaN   \n",
       " 9996          NaN   NaN     NaN        NaN            NaN              NaN   \n",
       " 9997          NaN   NaN     NaN        NaN            NaN              NaN   \n",
       " 9998          NaN   NaN     NaN        NaN            NaN              NaN   \n",
       " 9999          NaN   NaN     NaN        NaN            NaN              NaN   \n",
       " \n",
       "       Female  Male  France  Germany  ...  EstimatedSalary  Female  Male  \\\n",
       " 0        0.0   1.0     1.0      0.0  ...              NaN     NaN   NaN   \n",
       " 1        0.0   1.0     0.0      0.0  ...              NaN     NaN   NaN   \n",
       " 2        1.0   0.0     0.0      0.0  ...              NaN     NaN   NaN   \n",
       " 3        1.0   0.0     0.0      1.0  ...              NaN     NaN   NaN   \n",
       " 4        0.0   1.0     0.0      1.0  ...              NaN     NaN   NaN   \n",
       " ...      ...   ...     ...      ...  ...              ...     ...   ...   \n",
       " 9995     NaN   NaN     NaN      NaN  ...         51711.57     0.0   1.0   \n",
       " 9996     NaN   NaN     NaN      NaN  ...        111346.22     0.0   1.0   \n",
       " 9997     NaN   NaN     NaN      NaN  ...        136985.08     0.0   1.0   \n",
       " 9998     NaN   NaN     NaN      NaN  ...        140938.95     1.0   0.0   \n",
       " 9999     NaN   NaN     NaN      NaN  ...         73334.43     1.0   0.0   \n",
       " \n",
       "       France  Germany  Spain  HasCrCard_Yes  HasCrCard_No  IsActiveMember_Yes  \\\n",
       " 0        NaN      NaN    NaN            NaN           NaN                 NaN   \n",
       " 1        NaN      NaN    NaN            NaN           NaN                 NaN   \n",
       " 2        NaN      NaN    NaN            NaN           NaN                 NaN   \n",
       " 3        NaN      NaN    NaN            NaN           NaN                 NaN   \n",
       " 4        NaN      NaN    NaN            NaN           NaN                 NaN   \n",
       " ...      ...      ...    ...            ...           ...                 ...   \n",
       " 9995     0.0      0.0    1.0            1.0           0.0                 1.0   \n",
       " 9996     0.0      0.0    1.0            1.0           0.0                 1.0   \n",
       " 9997     1.0      0.0    0.0            1.0           0.0                 0.0   \n",
       " 9998     0.0      1.0    0.0            1.0           0.0                 0.0   \n",
       " 9999     1.0      0.0    0.0            1.0           0.0                 0.0   \n",
       " \n",
       "       IsActiveMember_No  \n",
       " 0                   NaN  \n",
       " 1                   NaN  \n",
       " 2                   NaN  \n",
       " 3                   NaN  \n",
       " 4                   NaN  \n",
       " ...                 ...  \n",
       " 9995                0.0  \n",
       " 9996                0.0  \n",
       " 9997                1.0  \n",
       " 9998                1.0  \n",
       " 9999                1.0  \n",
       " \n",
       " [8000 rows x 60 columns],\n",
       "       Exited  Exited  Exited  Exited\n",
       " 0        0.0     NaN     NaN     NaN\n",
       " 1        0.0     NaN     NaN     NaN\n",
       " 2        0.0     NaN     NaN     NaN\n",
       " 3        0.0     NaN     NaN     NaN\n",
       " 4        0.0     NaN     NaN     NaN\n",
       " ...      ...     ...     ...     ...\n",
       " 9995     NaN     NaN     NaN     0.0\n",
       " 9996     NaN     NaN     NaN     0.0\n",
       " 9997     NaN     NaN     NaN     1.0\n",
       " 9998     NaN     NaN     NaN     1.0\n",
       " 9999     NaN     NaN     NaN     0.0\n",
       " \n",
       " [8000 rows x 4 columns],\n",
       "       CreditScore   Age  Tenure    Balance  NumOfProducts  EstimatedSalary  \\\n",
       " 2000        782.0  36.0     1.0  148795.17            2.0        195681.43   \n",
       " 2001        646.0  30.0     5.0   98014.74            1.0         12757.14   \n",
       " 2002        605.0  41.0     5.0   91612.91            1.0         28427.84   \n",
       " 2003        598.0  20.0     8.0  180293.84            2.0         29552.70   \n",
       " 2004        724.0  41.0     4.0  142880.28            3.0        185541.20   \n",
       " ...           ...   ...     ...        ...            ...              ...   \n",
       " 3995        816.0  38.0     5.0  130878.75            3.0         71905.77   \n",
       " 3996        647.0  42.0     9.0       0.00            2.0         51362.82   \n",
       " 3997        602.0  33.0     5.0       0.00            2.0         64038.34   \n",
       " 3998        656.0  50.0     7.0       0.00            2.0         72143.44   \n",
       " 3999        592.0  42.0     1.0  147249.29            2.0         63023.02   \n",
       " \n",
       "       Female  Male  France  Germany  Spain  HasCrCard_Yes  HasCrCard_No  \\\n",
       " 2000     0.0   1.0     1.0      0.0    0.0            1.0           0.0   \n",
       " 2001     0.0   1.0     1.0      0.0    0.0            1.0           0.0   \n",
       " 2002     0.0   1.0     1.0      0.0    0.0            1.0           0.0   \n",
       " 2003     0.0   1.0     0.0      1.0    0.0            1.0           0.0   \n",
       " 2004     1.0   0.0     0.0      0.0    1.0            0.0           1.0   \n",
       " ...      ...   ...     ...      ...    ...            ...           ...   \n",
       " 3995     1.0   0.0     0.0      1.0    0.0            1.0           0.0   \n",
       " 3996     1.0   0.0     1.0      0.0    0.0            1.0           0.0   \n",
       " 3997     0.0   1.0     0.0      0.0    1.0            0.0           1.0   \n",
       " 3998     0.0   1.0     1.0      0.0    0.0            0.0           1.0   \n",
       " 3999     0.0   1.0     1.0      0.0    0.0            1.0           0.0   \n",
       " \n",
       "       IsActiveMember_Yes  IsActiveMember_No  \n",
       " 2000                 1.0                0.0  \n",
       " 2001                 1.0                0.0  \n",
       " 2002                 1.0                0.0  \n",
       " 2003                 1.0                0.0  \n",
       " 2004                 0.0                1.0  \n",
       " ...                  ...                ...  \n",
       " 3995                 0.0                1.0  \n",
       " 3996                 1.0                0.0  \n",
       " 3997                 1.0                0.0  \n",
       " 3998                 1.0                0.0  \n",
       " 3999                 1.0                0.0  \n",
       " \n",
       " [2000 rows x 15 columns],\n",
       " 2000    0\n",
       " 2001    0\n",
       " 2002    0\n",
       " 2003    0\n",
       " 2004    1\n",
       "        ..\n",
       " 3995    1\n",
       " 3996    0\n",
       " 3997    0\n",
       " 3998    0\n",
       " 3999    0\n",
       " Name: Exited, Length: 2000, dtype: int32)"
      ]
     },
     "execution_count": 32,
     "metadata": {},
     "output_type": "execute_result"
    }
   ],
   "source": [
    "########k折划分############        \n",
    "def get_k_fold_data(k, i, X, y):  ###此过程主要是步骤（1）\n",
    "    # 返回第i折交叉验证时所需要的训练和验证数据，分开放，X_train为训练数据，X_valid为验证数据\n",
    "    assert k > 1\n",
    "    fold_size = X.shape[0] // k  # 每份的个数:数据总条数/折数（组数）\n",
    "    X_train, y_train = pd.DataFrame(), pd.DataFrame()\n",
    "    for j in range(k):\n",
    "        ##idx 为每组 valid\n",
    "        X_part = X.iloc[j * fold_size: (j + 1) * fold_size,:]\n",
    "        y_part=y[j * fold_size: (j + 1) * fold_size]\n",
    "        if j == i: ###第i折作valid\n",
    "            X_valid, y_valid = X_part, y_part\n",
    "        elif X_train is None:\n",
    "            X_train, y_train = X_part, y_part\n",
    "        else:\n",
    "            X_train = pd.concat([X_train, X_part], axis=1) #dim=0增加行数，竖着连接\n",
    "            y_train = pd.concat([y_train, y_part], axis=1)\n",
    "    print(X_train.shape,X_valid.shape)\n",
    "    return X_train, y_train, X_valid,y_valid\n",
    "\n",
    "\n",
    "def k_fold(k, X_train, y_train, num_epochs=3,learning_rate=0.001, weight_decay=0.1, batch_size=5):\n",
    "    for i in range(k):\n",
    "        data = get_k_fold_data(k, i, X_train, y_train) # 获取k折交叉验证的训练和验证数据\n",
    "        ### 每份数据进行训练,体现步骤三####\n",
    "        exit()\n",
    "        \n",
    "get_k_fold_data(5,1,X,Y)"
   ]
  },
  {
   "cell_type": "code",
   "execution_count": 20,
   "id": "1d8968ed",
   "metadata": {},
   "outputs": [
    {
     "data": {
      "text/html": [
       "<div>\n",
       "<style scoped>\n",
       "    .dataframe tbody tr th:only-of-type {\n",
       "        vertical-align: middle;\n",
       "    }\n",
       "\n",
       "    .dataframe tbody tr th {\n",
       "        vertical-align: top;\n",
       "    }\n",
       "\n",
       "    .dataframe thead th {\n",
       "        text-align: right;\n",
       "    }\n",
       "</style>\n",
       "<table border=\"1\" class=\"dataframe\">\n",
       "  <thead>\n",
       "    <tr style=\"text-align: right;\">\n",
       "      <th></th>\n",
       "    </tr>\n",
       "  </thead>\n",
       "  <tbody>\n",
       "  </tbody>\n",
       "</table>\n",
       "</div>"
      ],
      "text/plain": [
       "Empty DataFrame\n",
       "Columns: []\n",
       "Index: []"
      ]
     },
     "execution_count": 20,
     "metadata": {},
     "output_type": "execute_result"
    }
   ],
   "source": [
    "pd.DataFrame()"
   ]
  },
  {
   "cell_type": "code",
   "execution_count": 2,
   "id": "0996dc19",
   "metadata": {},
   "outputs": [
    {
     "data": {
      "text/plain": [
       "array([0, 1, 0, 0])"
      ]
     },
     "execution_count": 2,
     "metadata": {},
     "output_type": "execute_result"
    }
   ],
   "source": [
    "import numpy as np\n",
    "import torch\n",
    "cuda = True if torch.cuda.is_available() else False\n",
    "Tensor = torch.cuda.FloatTensor if cuda else torch.FloatTensor\n",
    "\n",
    "z=np.random.normal(0,1,(4,2))\n",
    "label=np.random.randint(0, 2, 4)\n",
    "class_onehot = np.zeros((4, 2))\n",
    "class_onehot[np.arange(4), label] = 1\n",
    "\n",
    "torch.cat((Tensor(class_onehot),Tensor(z)),dim=1)\n",
    "label"
   ]
  },
  {
   "cell_type": "code",
   "execution_count": 4,
   "id": "510b2aa7",
   "metadata": {},
   "outputs": [
    {
     "data": {
      "text/plain": [
       "[0, 1, 2, 3, 4, 5, 6, 7, 8, 9]"
      ]
     },
     "execution_count": 4,
     "metadata": {},
     "output_type": "execute_result"
    }
   ],
   "source": []
  }
 ],
 "metadata": {
  "kernelspec": {
   "display_name": "Python 3 (ipykernel)",
   "language": "python",
   "name": "python3"
  },
  "language_info": {
   "codemirror_mode": {
    "name": "ipython",
    "version": 3
   },
   "file_extension": ".py",
   "mimetype": "text/x-python",
   "name": "python",
   "nbconvert_exporter": "python",
   "pygments_lexer": "ipython3",
   "version": "3.8.4"
  }
 },
 "nbformat": 4,
 "nbformat_minor": 5
}
